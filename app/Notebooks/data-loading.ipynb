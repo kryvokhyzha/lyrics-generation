{
 "cells": [
  {
   "cell_type": "markdown",
   "metadata": {},
   "source": [
    "## Module importing"
   ]
  },
  {
   "cell_type": "code",
   "execution_count": 4,
   "metadata": {},
   "outputs": [],
   "source": [
    "import os"
   ]
  },
  {
   "cell_type": "code",
   "execution_count": 6,
   "metadata": {},
   "outputs": [],
   "source": [
    "os.chdir('../..')\n",
    "os.getcwd()"
   ]
  },
  {
   "cell_type": "code",
   "execution_count": 8,
   "metadata": {},
   "outputs": [],
   "source": [
    "import lyricsgenius\n",
    "from app.utils import get_config"
   ]
  },
  {
   "cell_type": "markdown",
   "metadata": {},
   "source": [
    "## Getting configs"
   ]
  },
  {
   "cell_type": "code",
   "execution_count": 10,
   "metadata": {},
   "outputs": [],
   "source": [
    "config = get_config()"
   ]
  },
  {
   "cell_type": "code",
   "execution_count": 11,
   "metadata": {},
   "outputs": [
    {
     "data": {
      "text/plain": [
       "{'API_GENIUS_CLIENT_ID': 'qI7gMUeTh65OmvVd6z5Vc7t0gYW18Zk-9PyDz2ZIRwA_KLuj_K7U9nVQyMbkoBvE',\n",
       " 'API_GENIUS_CLIENT_SECRET': 'v8jifx5Nmij64urtdW3Hbp5oDIVCP0d5AJKA3XXnbMB3NNlVLWe3ZD1fjNw3iEzX5X7wC-21eQlnlL1M4XxjzQ',\n",
       " 'API_GENIUS_TOKEN': 'TeOBQSdMouC_RTB_TmORyLRx6Z0nCDmkGid0_pzEPgGuk36CYFqwBYzyUBurxYL8'}"
      ]
     },
     "execution_count": 11,
     "metadata": {},
     "output_type": "execute_result"
    }
   ],
   "source": [
    "config"
   ]
  },
  {
   "cell_type": "markdown",
   "metadata": {},
   "source": [
    "## Getting lyrics for singer"
   ]
  },
  {
   "cell_type": "code",
   "execution_count": 12,
   "metadata": {},
   "outputs": [],
   "source": [
    "SONG_NAME = 'Би-2'"
   ]
  },
  {
   "cell_type": "code",
   "execution_count": 32,
   "metadata": {},
   "outputs": [
    {
     "name": "stdout",
     "output_type": "stream",
     "text": [
      "Searching for songs by Би-2...\n",
      "\n",
      "Changing artist name to 'БИ-2 (BI-2)'\n",
      "Song 1: \"1000 миль (Miles)\"\n",
      "Song 2: \"Bowie\"\n",
      "Song 3: \"Christmas\"\n",
      "Song 4: \"Алиса (Alisa)\"\n",
      "Song 5: \"Ангелы (Angels)\"\n",
      "Song 6: \"Банзай (Banzay)\"\n",
      "Song 7: \"Бегущий по лезвию бритвы (Razor-Blade)\"\n",
      "Song 8: \"Безвоздушная тревога (Airless alarm)\"\n",
      "Song 9: \"Блеф (Bluff)\"\n",
      "Song 10: \"Блюз 16+ (Blues)\"\n",
      "\n",
      "Reached user-specified song limit (10).\n",
      "Done. Found 10 songs.\n"
     ]
    }
   ],
   "source": [
    "genius = lyricsgenius.Genius(config['API_GENIUS_TOKEN'])\n",
    "artist = genius.search_artist(SONG_NAME, max_songs=10, sort=\"title\")"
   ]
  },
  {
   "cell_type": "code",
   "execution_count": 33,
   "metadata": {},
   "outputs": [
    {
     "name": "stdin",
     "output_type": "stream",
     "text": [
      "Lyrisc_БИ2 BI2.json already exists. Overwrite?\n",
      "(y/n):  y\n"
     ]
    },
    {
     "name": "stdout",
     "output_type": "stream",
     "text": [
      "Wrote `Lyrisc_БИ2 BI2.json`\n"
     ]
    }
   ],
   "source": [
    "os.chdir('app/data/json/')\n",
    "\n",
    "artist.save_lyrics(f'Lyrisc_{artist.name}.json')\n",
    "\n",
    "os.chdir('../../..')"
   ]
  },
  {
   "cell_type": "code",
   "execution_count": 34,
   "metadata": {},
   "outputs": [
    {
     "name": "stdout",
     "output_type": "stream",
     "text": [
      "Searching for \"1000 миль (Miles)\" by БИ-2 (BI-2)...\n",
      "Done.\n",
      "Searching for \"Bowie\" by БИ-2 (BI-2)...\n",
      "Done.\n",
      "Searching for \"Christmas\" by БИ-2 (BI-2)...\n",
      "Done.\n",
      "Searching for \"Алиса (Alisa)\" by БИ-2 (BI-2)...\n",
      "Done.\n",
      "Searching for \"Ангелы (Angels)\" by БИ-2 (BI-2)...\n",
      "Done.\n",
      "Searching for \"Банзай (Banzay)\" by БИ-2 (BI-2)...\n",
      "Done.\n",
      "Searching for \"Бегущий по лезвию бритвы (Razor-Blade)\" by БИ-2 (BI-2)...\n",
      "Done.\n",
      "Searching for \"Безвоздушная тревога (Airless alarm)\" by БИ-2 (BI-2)...\n",
      "Done.\n",
      "Searching for \"Блеф (Bluff)\" by БИ-2 (BI-2)...\n",
      "Done.\n",
      "Searching for \"Блюз 16+ (Blues)\" by БИ-2 (BI-2)...\n",
      "Done.\n"
     ]
    }
   ],
   "source": [
    "all_lyrics = []\n",
    "for song in artist.songs:\n",
    "    song_saved = genius.search_song(song.title, artist.name)\n",
    "    try:\n",
    "        all_lyrics.append(song_saved.lyrics)\n",
    "    except Exception as e:\n",
    "        print(\"Oops!\", e.__class__, \"occurred.\")\n",
    "        print(e)"
   ]
  },
  {
   "cell_type": "code",
   "execution_count": 35,
   "metadata": {},
   "outputs": [],
   "source": [
    "all_lyrics_txt = '/n'.join(all_lyrics)"
   ]
  },
  {
   "cell_type": "code",
   "execution_count": 36,
   "metadata": {},
   "outputs": [],
   "source": [
    "os.chdir('app/data/txt/')\n",
    "\n",
    "with open(f'Lyrics_{artist.name}.txt', \"w\") as text_file:\n",
    "    text_file.write(all_lyrics_txt)\n",
    "    \n",
    "os.chdir('../../..')"
   ]
  },
  {
   "cell_type": "code",
   "execution_count": null,
   "metadata": {},
   "outputs": [],
   "source": []
  },
  {
   "cell_type": "code",
   "execution_count": null,
   "metadata": {},
   "outputs": [],
   "source": []
  }
 ],
 "metadata": {
  "kernelspec": {
   "display_name": "Python 3",
   "language": "python",
   "name": "python3"
  },
  "language_info": {
   "codemirror_mode": {
    "name": "ipython",
    "version": 3
   },
   "file_extension": ".py",
   "mimetype": "text/x-python",
   "name": "python",
   "nbconvert_exporter": "python",
   "pygments_lexer": "ipython3",
   "version": "3.7.5"
  }
 },
 "nbformat": 4,
 "nbformat_minor": 4
}
